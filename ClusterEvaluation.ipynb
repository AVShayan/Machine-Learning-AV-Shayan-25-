{
  "nbformat": 4,
  "nbformat_minor": 0,
  "metadata": {
    "colab": {
      "provenance": [],
      "authorship_tag": "ABX9TyPWzdspV+FgJ3AuI1dm4md3",
      "include_colab_link": true
    },
    "kernelspec": {
      "name": "python3",
      "display_name": "Python 3"
    },
    "language_info": {
      "name": "python"
    }
  },
  "cells": [
    {
      "cell_type": "markdown",
      "metadata": {
        "id": "view-in-github",
        "colab_type": "text"
      },
      "source": [
        "<a href=\"https://colab.research.google.com/github/AVShayan/Machine-Learning-AV-Shayan-25-/blob/main/ClusterEvaluation.ipynb\" target=\"_parent\"><img src=\"https://colab.research.google.com/assets/colab-badge.svg\" alt=\"Open In Colab\"/></a>"
      ]
    },
    {
      "cell_type": "code",
      "execution_count": 2,
      "metadata": {
        "id": "JhM2EAztE9bU"
      },
      "outputs": [],
      "source": [
        "from sklearn.datasets import make_blobs\n",
        "from sklearn.cluster import KMeans\n",
        "from sklearn.metrics import silhouette_score,davies_bouldin_score, calinski_harabasz_score"
      ]
    },
    {
      "cell_type": "code",
      "source": [
        "X, y_true = make_blobs(n_samples=500, n_features=2, centers=4,\n",
        "cluster_std=1.0, random_state=42)"
      ],
      "metadata": {
        "id": "xTPU52SxFGGg"
      },
      "execution_count": 3,
      "outputs": []
    },
    {
      "cell_type": "code",
      "source": [
        "k = 4\n",
        "kmeans = KMeans(n_clusters=k, random_state=42)\n",
        "y_pred = kmeans.fit_predict(X)"
      ],
      "metadata": {
        "id": "HbliUM_VFJn-"
      },
      "execution_count": 4,
      "outputs": []
    },
    {
      "cell_type": "code",
      "source": [
        "silhouette = silhouette_score(X, y_pred)\n",
        "davies_bouldin = davies_bouldin_score(X, y_pred)\n",
        "calinski_harabasz = calinski_harabasz_score(X, y_pred)"
      ],
      "metadata": {
        "id": "jJqU9SHxFNbx"
      },
      "execution_count": 5,
      "outputs": []
    },
    {
      "cell_type": "code",
      "source": [
        "print('Cluster Evaluation Results: ')\n",
        "print(f'→ Silhouette Score: {silhouette:.3f} of k:{k} (Higher is better, range: -1 to 1)')\n",
        "print(f'→ Davies-Bouldin Index: {davies_bouldin:.3f} (Lower is better)')\n",
        "print(f'→ Calinski-Harabasz Index: {calinski_harabasz:.3f} (Higher is better)')"
      ],
      "metadata": {
        "colab": {
          "base_uri": "https://localhost:8080/"
        },
        "id": "Yq6eGtvSFRc5",
        "outputId": "f9c1893b-d8fc-4073-b02e-c4162757b838"
      },
      "execution_count": 7,
      "outputs": [
        {
          "output_type": "stream",
          "name": "stdout",
          "text": [
            "Cluster Evaluation Results: \n",
            "→ Silhouette Score: 0.791 of k:4 (Higher is better, range: -1 to 1)\n",
            "→ Davies-Bouldin Index: 0.294 (Lower is better)\n",
            "→ Calinski-Harabasz Index: 5742.036 (Higher is better)\n"
          ]
        }
      ]
    }
  ]
}