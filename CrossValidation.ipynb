{
  "nbformat": 4,
  "nbformat_minor": 0,
  "metadata": {
    "colab": {
      "provenance": []
    },
    "kernelspec": {
      "name": "python3",
      "display_name": "Python 3"
    },
    "language_info": {
      "name": "python"
    }
  },
  "cells": [
    {
      "cell_type": "code",
      "execution_count": null,
      "metadata": {
        "id": "FAVDdzW_D_uv"
      },
      "outputs": [],
      "source": [
        "from sklearn import datasets\n",
        "from sklearn.tree import DecisionTreeClassifier\n",
        "from sklearn.linear_model import LogisticRegression\n",
        "from sklearn.model_selection import KFold,cross_val_score\n",
        "X, y = datasets.load_iris(return_X_y=True)\n",
        "clf1 = DecisionTreeClassifier(random_state=42)\n",
        "clf2 = LogisticRegression(max_iter=1000)\n",
        "k_folds = KFold(n_splits = 10)\n",
        "scores1 = cross_val_score(clf1, X, y, cv = k_folds)\n",
        "scores2 = cross_val_score(clf2, X, y, cv = k_folds)\n",
        "print(\"Cross Validation Scores: \", scores1)\n",
        "print(\"Cross Validation Scores: \", scores2)\n",
        "print(\"Average CV Score: \", scores1.mean())\n",
        "print(\"Average CV Score: \", scores2.mean())\n",
        "print(\"Number of CV Scores used in Average: \",\n",
        "len(scores1))\n",
        "print(\"Number of CV Scores used in Average: \",\n",
        "len(scores2))"
      ]
    }
  ]
}