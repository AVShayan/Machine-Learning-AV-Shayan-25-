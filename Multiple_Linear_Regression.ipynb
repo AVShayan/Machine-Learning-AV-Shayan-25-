{
  "nbformat": 4,
  "nbformat_minor": 0,
  "metadata": {
    "colab": {
      "provenance": []
    },
    "kernelspec": {
      "name": "python3",
      "display_name": "Python 3"
    },
    "language_info": {
      "name": "python"
    }
  },
  "cells": [
    {
      "cell_type": "code",
      "execution_count": null,
      "metadata": {
        "id": "lXyjpGRRC3lW"
      },
      "outputs": [],
      "source": [
        "import pandas as pd\n",
        "from sklearn.preprocessing import LabelEncoder\n",
        "from sklearn.model_selection import train_test_split\n",
        "from sklearn.linear_model import LinearRegression\n",
        "from sklearn.metrics import mean_squared_error, r2_score\n",
        "\n",
        "# Load dataset\n",
        "data = pd.read_csv(\"Employee.csv\")\n",
        "print(\"First 5 rows:\\n\", data.head())\n",
        "\n",
        "# Encode categorical columns\n",
        "le = LabelEncoder()\n",
        "categorical_cols = [\"Education\", \"City\", \"Gender\", \"EverBenched\"]\n",
        "\n",
        "for col in categorical_cols:\n",
        "    data[col] = le.fit_transform(data[col])\n",
        "\n",
        "print(\"\\nAfter Encoding:\\n\", data.head())\n",
        "\n",
        "# Features (independent variables)\n",
        "X = data[[\n",
        "    \"Education\",\n",
        "    \"JoiningYear\",\n",
        "    \"City\",\n",
        "    \"PaymentTier\",\n",
        "    \"Age\",\n",
        "    \"Gender\",\n",
        "    \"EverBenched\",\n",
        "    \"ExperienceInCurrentDomain\"\n",
        "]]\n",
        "\n",
        "# Target\n",
        "y = data[\"LeaveOrNot\"]\n",
        "# Train-test split\n",
        "x_train, x_test, y_train, y_test = train_test_split(X, y, test_size=0.2, random_state=2)\n",
        "\n",
        "# Linear Regression Model\n",
        "lrr = LinearRegression()\n",
        "lrr.fit(x_train, y_train)\n",
        "y_lrr_pred = lrr.predict(x_test)\n",
        "\n",
        "# Evaluation\n",
        "mse = mean_squared_error(y_test, y_lrr_pred)\n",
        "r2 = r2_score(y_test, y_lrr_pred)\n",
        "\n",
        "print(\"\\nLinear Regression MSE:\", mse)\n",
        "print(\"Linear Regression R2:\", r2)\n"
      ]
    }
  ]
}