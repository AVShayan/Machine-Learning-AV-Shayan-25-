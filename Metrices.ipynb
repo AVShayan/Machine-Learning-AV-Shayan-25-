{
  "nbformat": 4,
  "nbformat_minor": 0,
  "metadata": {
    "colab": {
      "provenance": []
    },
    "kernelspec": {
      "name": "python3",
      "display_name": "Python 3"
    },
    "language_info": {
      "name": "python"
    }
  },
  "cells": [
    {
      "cell_type": "code",
      "execution_count": null,
      "metadata": {
        "id": "DVB5v7nwDZ-h"
      },
      "outputs": [],
      "source": [
        "import pandas as pd\n",
        "from sklearn.preprocessing import LabelEncoder\n",
        "from sklearn.model_selection import train_test_split\n",
        "from sklearn.tree import DecisionTreeClassifier\n",
        "from sklearn.linear_model import LinearRegression\n",
        "from sklearn.metrics import accuracy_score, mean_squared_error, r2_score\n",
        "\n",
        "# Load dataset\n",
        "data = pd.read_csv(\"Attrition Data.csv\")\n",
        "print(data.head())\n",
        "\n",
        "# Encode categorical columns\n",
        "le = LabelEncoder()\n",
        "categorical_cols = [\"Attrition\", \"Department\", \"EducationField\", \"MaritalStatus\"]\n",
        "\n",
        "for col in categorical_cols:\n",
        "    data[col] = le.fit_transform(data[col])\n",
        "\n",
        "print(\"After Encoding:\\n\", data.head())\n",
        "\n",
        "# Features (independent variables)\n",
        "X = data[[\n",
        "    \"Age\",\n",
        "    \"DistanceFromHome\",\n",
        "    \"Education\",\n",
        "    \"EnvironmentSatisfaction\",\n",
        "    \"JobSatisfaction\",\n",
        "    \"MonthlyIncome\",\n",
        "    \"NumCompaniesWorked\",\n",
        "    \"WorkLifeBalance\",\n",
        "    \"YearsAtCompany\",\n",
        "    \"Department\",\n",
        "    \"EducationField\",\n",
        "    \"MaritalStatus\"\n",
        "]]\n",
        "# Target (dependent variable → whether an employee left)\n",
        "y = data[\"Attrition\"]\n",
        "\n",
        "# Train-test split\n",
        "X_train, X_test, y_train, y_test = train_test_split(\n",
        "    X, y, test_size=0.2, random_state=42\n",
        ")\n",
        "\n",
        "# 1. Decision Tree Classifier\n",
        "dt = DecisionTreeClassifier(criterion=\"entropy\", random_state=42)\n",
        "dt.fit(X_train, y_train)\n",
        "y_dt_pred = dt.predict(X_test)\n",
        "accuracy_dt = accuracy_score(y_test, y_dt_pred)\n",
        "print(\"Decision Tree Accuracy:\", accuracy_dt)\n",
        "\n",
        "# 2. Linear Regression (just for comparison, though attrition is categorical)\n",
        "lrr = LinearRegression()\n",
        "lrr.fit(X_train, y_train)\n",
        "y_lrr_pred = lrr.predict(X_test)\n",
        "\n",
        "mse = mean_squared_error(y_test, y_lrr_pred)\n",
        "r2 = r2_score(y_test, y_lrr_pred)\n",
        "\n",
        "print(\"Linear Regression MSE:\", mse)\n",
        "print(\"Linear Regression R2:\", r2)"
      ]
    }
  ]
}